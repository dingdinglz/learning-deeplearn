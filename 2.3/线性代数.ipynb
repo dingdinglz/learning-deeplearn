{
 "cells": [
  {
   "cell_type": "markdown",
   "id": "6c6b7faa",
   "metadata": {},
   "source": [
    "  ## 线性代数"
   ]
  },
  {
   "cell_type": "markdown",
   "id": "8d74677f-1942-413f-9e65-7bcae86fc1fc",
   "metadata": {
    "jp-MarkdownHeadingCollapsed": true
   },
   "source": [
    "### 标量"
   ]
  },
  {
   "cell_type": "code",
   "execution_count": 1,
   "id": "2ae66bbb",
   "metadata": {},
   "outputs": [],
   "source": [
    "import torch"
   ]
  },
  {
   "cell_type": "code",
   "execution_count": 2,
   "id": "6a6c4283-69fc-4550-8665-aa80f6a9deef",
   "metadata": {},
   "outputs": [
    {
     "data": {
      "text/plain": [
       "(tensor(5), tensor(6), tensor(0.6667), tensor(8))"
      ]
     },
     "execution_count": 2,
     "metadata": {},
     "output_type": "execute_result"
    }
   ],
   "source": [
    "x = torch.tensor(2)\n",
    "y = torch.tensor(3)\n",
    "\n",
    "x+y,x*y,x/y,x**y"
   ]
  },
  {
   "cell_type": "markdown",
   "id": "e7a67170-9993-4ec8-8c6a-7fb074d38213",
   "metadata": {
    "jp-MarkdownHeadingCollapsed": true
   },
   "source": [
    "### 向量\n",
    "\n",
    "用一维张量表示向量"
   ]
  },
  {
   "cell_type": "code",
   "execution_count": 3,
   "id": "6ec268ca-3189-4dd5-8bc5-7526ecd3aae3",
   "metadata": {},
   "outputs": [
    {
     "data": {
      "text/plain": [
       "tensor([0, 1, 2, 3])"
      ]
     },
     "execution_count": 3,
     "metadata": {},
     "output_type": "execute_result"
    }
   ],
   "source": [
    "x = torch.arange(4)\n",
    "x"
   ]
  },
  {
   "cell_type": "code",
   "execution_count": 4,
   "id": "10de74c3-5ab5-43e3-90dc-d409f21503cc",
   "metadata": {},
   "outputs": [
    {
     "data": {
      "text/plain": [
       "tensor(3)"
      ]
     },
     "execution_count": 4,
     "metadata": {},
     "output_type": "execute_result"
    }
   ],
   "source": [
    "x[3] #下标形式访问"
   ]
  },
  {
   "cell_type": "code",
   "execution_count": 5,
   "id": "82606831-c625-4cf5-8af2-0ba16964e58b",
   "metadata": {},
   "outputs": [
    {
     "data": {
      "text/plain": [
       "4"
      ]
     },
     "execution_count": 5,
     "metadata": {},
     "output_type": "execute_result"
    }
   ],
   "source": [
    "len(x)"
   ]
  },
  {
   "cell_type": "code",
   "execution_count": 6,
   "id": "1aed46ad-de96-4fcb-ae23-de0e80851322",
   "metadata": {},
   "outputs": [
    {
     "data": {
      "text/plain": [
       "torch.Size([4])"
      ]
     },
     "execution_count": 6,
     "metadata": {},
     "output_type": "execute_result"
    }
   ],
   "source": [
    "x.shape"
   ]
  },
  {
   "cell_type": "markdown",
   "id": "b797db2c-695d-458b-ab72-1b7ea1c760fb",
   "metadata": {
    "jp-MarkdownHeadingCollapsed": true
   },
   "source": [
    "### 矩阵"
   ]
  },
  {
   "cell_type": "markdown",
   "id": "1fd39556-373f-432f-ad82-a955163caa1b",
   "metadata": {},
   "source": [
    "通过reshape函数生成矩阵"
   ]
  },
  {
   "cell_type": "code",
   "execution_count": 8,
   "id": "6be93648-b7d0-4c86-afee-e4765732dc18",
   "metadata": {},
   "outputs": [
    {
     "data": {
      "text/plain": [
       "tensor([[ 0,  1,  2,  3,  4],\n",
       "        [ 5,  6,  7,  8,  9],\n",
       "        [10, 11, 12, 13, 14],\n",
       "        [15, 16, 17, 18, 19]])"
      ]
     },
     "execution_count": 8,
     "metadata": {},
     "output_type": "execute_result"
    }
   ],
   "source": [
    "x = torch.arange(20)\n",
    "x = x.reshape(4,5)\n",
    "x"
   ]
  },
  {
   "cell_type": "code",
   "execution_count": 10,
   "id": "0cbea336-1af6-427f-8344-2b26d9216720",
   "metadata": {},
   "outputs": [
    {
     "data": {
      "text/plain": [
       "tensor(1)"
      ]
     },
     "execution_count": 10,
     "metadata": {},
     "output_type": "execute_result"
    }
   ],
   "source": [
    "x[0][1] # 下标取标量"
   ]
  },
  {
   "cell_type": "code",
   "execution_count": 12,
   "id": "d50603dd-9b25-4d48-a4ab-05f3cd119e11",
   "metadata": {},
   "outputs": [
    {
     "data": {
      "text/plain": [
       "tensor([[ 0,  5, 10, 15],\n",
       "        [ 1,  6, 11, 16],\n",
       "        [ 2,  7, 12, 17],\n",
       "        [ 3,  8, 13, 18],\n",
       "        [ 4,  9, 14, 19]])"
      ]
     },
     "execution_count": 12,
     "metadata": {},
     "output_type": "execute_result"
    }
   ],
   "source": [
    "x.T # 矩阵的转置"
   ]
  },
  {
   "cell_type": "code",
   "execution_count": 15,
   "id": "40c5ad86-fd30-44fe-b911-775349f2c665",
   "metadata": {},
   "outputs": [
    {
     "data": {
      "text/plain": [
       "tensor([[1, 2, 3],\n",
       "        [2, 0, 4],\n",
       "        [3, 4, 5]])"
      ]
     },
     "execution_count": 15,
     "metadata": {},
     "output_type": "execute_result"
    }
   ],
   "source": [
    "B = torch.tensor([[1,2,3],[2,0,4],[3,4,5]])\n",
    "B"
   ]
  },
  {
   "cell_type": "code",
   "execution_count": 17,
   "id": "94bf7e50-e2a4-472b-beca-7a0e47a590e1",
   "metadata": {},
   "outputs": [
    {
     "data": {
      "text/plain": [
       "tensor([[True, True, True],\n",
       "        [True, True, True],\n",
       "        [True, True, True]])"
      ]
     },
     "execution_count": 17,
     "metadata": {},
     "output_type": "execute_result"
    }
   ],
   "source": [
    "B == B.T # B是对称矩阵"
   ]
  },
  {
   "cell_type": "markdown",
   "id": "18653b75-5064-4778-9fc8-799583715cc3",
   "metadata": {},
   "source": [
    "### 张量"
   ]
  },
  {
   "cell_type": "code",
   "execution_count": 19,
   "id": "3143286c-a122-490e-bf4f-69c4e657c9ec",
   "metadata": {
    "jp-MarkdownHeadingCollapsed": true
   },
   "outputs": [
    {
     "data": {
      "text/plain": [
       "tensor([[[ 0,  1,  2,  3],\n",
       "         [ 4,  5,  6,  7],\n",
       "         [ 8,  9, 10, 11]],\n",
       "\n",
       "        [[12, 13, 14, 15],\n",
       "         [16, 17, 18, 19],\n",
       "         [20, 21, 22, 23]]])"
      ]
     },
     "execution_count": 19,
     "metadata": {},
     "output_type": "execute_result"
    }
   ],
   "source": [
    "X = torch.arange(24).reshape(2,3,4) # 三维张量\n",
    "X"
   ]
  },
  {
   "cell_type": "code",
   "execution_count": 44,
   "id": "e0389d4b-1c2c-4a2a-90a3-c4782cabf3af",
   "metadata": {},
   "outputs": [
    {
     "data": {
      "text/plain": [
       "(tensor([[ 0.,  1.,  2.,  3.],\n",
       "         [ 4.,  5.,  6.,  7.],\n",
       "         [ 8.,  9., 10., 11.],\n",
       "         [12., 13., 14., 15.],\n",
       "         [16., 17., 18., 19.]], dtype=torch.float64),\n",
       " tensor([[ 0.,  2.,  4.,  6.],\n",
       "         [ 8., 10., 12., 14.],\n",
       "         [16., 18., 20., 22.],\n",
       "         [24., 26., 28., 30.],\n",
       "         [32., 34., 36., 38.]], dtype=torch.float64),\n",
       " tensor([[  0.,   1.,   4.,   9.],\n",
       "         [ 16.,  25.,  36.,  49.],\n",
       "         [ 64.,  81., 100., 121.],\n",
       "         [144., 169., 196., 225.],\n",
       "         [256., 289., 324., 361.]], dtype=torch.float64),\n",
       " tensor([[  0.,   1.,   4.,   9.],\n",
       "         [ 16.,  25.,  36.,  49.],\n",
       "         [ 64.,  81., 100., 121.],\n",
       "         [144., 169., 196., 225.],\n",
       "         [256., 289., 324., 361.]], dtype=torch.float64),\n",
       " tensor([[True, True, True, True],\n",
       "         [True, True, True, True],\n",
       "         [True, True, True, True],\n",
       "         [True, True, True, True],\n",
       "         [True, True, True, True]]))"
      ]
     },
     "execution_count": 44,
     "metadata": {},
     "output_type": "execute_result"
    }
   ],
   "source": [
    "A = torch.arange(20 , dtype = float).reshape(5,4)\n",
    "B = A.clone()\n",
    "A , A+B , A*B , A**2 , A**2 == A*B"
   ]
  },
  {
   "cell_type": "code",
   "execution_count": 45,
   "id": "9edb8053-962a-48c8-8a53-dfc69e5aa277",
   "metadata": {},
   "outputs": [
    {
     "data": {
      "text/plain": [
       "tensor([[[ 0,  2,  4,  6],\n",
       "         [ 8, 10, 12, 14],\n",
       "         [16, 18, 20, 22]],\n",
       "\n",
       "        [[24, 26, 28, 30],\n",
       "         [32, 34, 36, 38],\n",
       "         [40, 42, 44, 46]]])"
      ]
     },
     "execution_count": 45,
     "metadata": {},
     "output_type": "execute_result"
    }
   ],
   "source": [
    "2 * X # 标量乘张量不改变张量的形状"
   ]
  },
  {
   "cell_type": "code",
   "execution_count": 26,
   "id": "65f28d3f-a62a-49a9-b3d8-6c9ad0f3ad66",
   "metadata": {},
   "outputs": [
    {
     "data": {
      "text/plain": [
       "(tensor([0, 1, 2, 3]), tensor(6))"
      ]
     },
     "execution_count": 26,
     "metadata": {},
     "output_type": "execute_result"
    }
   ],
   "source": [
    "x = torch.arange(4)\n",
    "x,x.sum() # sum求和"
   ]
  },
  {
   "cell_type": "code",
   "execution_count": 30,
   "id": "c8ac6e37-6ceb-4a97-90c0-711ebc5d5994",
   "metadata": {},
   "outputs": [
    {
     "name": "stdout",
     "output_type": "stream",
     "text": [
      "tensor([[ 0,  1,  2,  3],\n",
      "        [ 4,  5,  6,  7],\n",
      "        [ 8,  9, 10, 11],\n",
      "        [12, 13, 14, 15],\n",
      "        [16, 17, 18, 19]])\n"
     ]
    },
    {
     "data": {
      "text/plain": [
       "(torch.Size([5, 4]), tensor(190))"
      ]
     },
     "execution_count": 30,
     "metadata": {},
     "output_type": "execute_result"
    }
   ],
   "source": [
    "print(A)\n",
    "A.shape,A.sum() # 直接sum取总和"
   ]
  },
  {
   "cell_type": "code",
   "execution_count": 37,
   "id": "7ae63353-f95f-40a4-ad39-12ee3a97c19c",
   "metadata": {},
   "outputs": [
    {
     "data": {
      "text/plain": [
       "(tensor([40, 45, 50, 55]), tensor([ 6, 22, 38, 54, 70]))"
      ]
     },
     "execution_count": 37,
     "metadata": {},
     "output_type": "execute_result"
    }
   ],
   "source": [
    "A.sum(axis = 0),A.sum(axis = 1) # 按一个轴求和(降维求和)"
   ]
  },
  {
   "cell_type": "code",
   "execution_count": 38,
   "id": "50f43c26-7252-4a9c-8da3-0a5f96251b63",
   "metadata": {},
   "outputs": [
    {
     "data": {
      "text/plain": [
       "tensor(190)"
      ]
     },
     "execution_count": 38,
     "metadata": {},
     "output_type": "execute_result"
    }
   ],
   "source": [
    "A.sum(axis = [0,1])"
   ]
  },
  {
   "cell_type": "code",
   "execution_count": 46,
   "id": "dec44817-aa31-4954-a071-77250635822e",
   "metadata": {},
   "outputs": [
    {
     "data": {
      "text/plain": [
       "(tensor(9.5000, dtype=torch.float64), tensor(9.5000, dtype=torch.float64))"
      ]
     },
     "execution_count": 46,
     "metadata": {},
     "output_type": "execute_result"
    }
   ],
   "source": [
    "A.mean() , A.sum() / A.numel()"
   ]
  },
  {
   "cell_type": "code",
   "execution_count": 47,
   "id": "0e5aa673-f65f-4ab2-8c19-10cd50690c31",
   "metadata": {},
   "outputs": [
    {
     "data": {
      "text/plain": [
       "tensor([ 8.,  9., 10., 11.], dtype=torch.float64)"
      ]
     },
     "execution_count": 47,
     "metadata": {},
     "output_type": "execute_result"
    }
   ],
   "source": [
    "A.mean(axis = 0)"
   ]
  },
  {
   "cell_type": "code",
   "execution_count": 49,
   "id": "187b6241-03fa-4ab2-a101-f7c57472c6fd",
   "metadata": {},
   "outputs": [
    {
     "data": {
      "text/plain": [
       "(tensor([[ 6.],\n",
       "         [22.],\n",
       "         [38.],\n",
       "         [54.],\n",
       "         [70.]], dtype=torch.float64),\n",
       " torch.Size([5, 1]))"
      ]
     },
     "execution_count": 49,
     "metadata": {},
     "output_type": "execute_result"
    }
   ],
   "source": [
    "sum_A = A.sum(axis = 1 , keepdims = True) # 不降维按一个轴求和\n",
    "sum_A , sum_A.shape"
   ]
  },
  {
   "cell_type": "code",
   "execution_count": 52,
   "id": "17b5b793-8694-49ad-a5ff-52797aba9730",
   "metadata": {},
   "outputs": [
    {
     "data": {
      "text/plain": [
       "(tensor([[ 0.,  1.,  2.,  3.],\n",
       "         [ 4.,  5.,  6.,  7.],\n",
       "         [ 8.,  9., 10., 11.],\n",
       "         [12., 13., 14., 15.],\n",
       "         [16., 17., 18., 19.]], dtype=torch.float64),\n",
       " tensor([[0.0000, 0.1667, 0.3333, 0.5000],\n",
       "         [0.1818, 0.2273, 0.2727, 0.3182],\n",
       "         [0.2105, 0.2368, 0.2632, 0.2895],\n",
       "         [0.2222, 0.2407, 0.2593, 0.2778],\n",
       "         [0.2286, 0.2429, 0.2571, 0.2714]], dtype=torch.float64))"
      ]
     },
     "execution_count": 52,
     "metadata": {},
     "output_type": "execute_result"
    }
   ],
   "source": [
    "A , A / sum_A  # 广播机制，强大"
   ]
  },
  {
   "cell_type": "code",
   "execution_count": 53,
   "id": "b37aba5d-cc94-4409-8326-345cbc45e00c",
   "metadata": {},
   "outputs": [
    {
     "data": {
      "text/plain": [
       "tensor([[ 0.,  1.,  2.,  3.],\n",
       "        [ 4.,  6.,  8., 10.],\n",
       "        [12., 15., 18., 21.],\n",
       "        [24., 28., 32., 36.],\n",
       "        [40., 45., 50., 55.]], dtype=torch.float64)"
      ]
     },
     "execution_count": 53,
     "metadata": {},
     "output_type": "execute_result"
    }
   ],
   "source": [
    "A.cumsum(axis = 0) # 求累计总和"
   ]
  },
  {
   "cell_type": "markdown",
   "id": "e84c0c61-f015-489e-946a-e2fe2dda5abb",
   "metadata": {},
   "source": [
    "点积（数量积）"
   ]
  },
  {
   "cell_type": "code",
   "execution_count": 56,
   "id": "7c078341-c0c3-4a2e-84ed-6612b8f16711",
   "metadata": {},
   "outputs": [
    {
     "data": {
      "text/plain": [
       "(tensor([0., 1., 2., 3.], dtype=torch.float64),\n",
       " tensor([1., 1., 1., 1.], dtype=torch.float64),\n",
       " tensor(6., dtype=torch.float64))"
      ]
     },
     "execution_count": 56,
     "metadata": {},
     "output_type": "execute_result"
    }
   ],
   "source": [
    "x = torch.arange(4 , dtype = float)\n",
    "y = torch.ones(4 , dtype = float)\n",
    "x , y , torch.dot(x,y)"
   ]
  },
  {
   "cell_type": "code",
   "execution_count": 58,
   "id": "4f109d8c-f24f-49b9-a4a2-eb13d2f9882d",
   "metadata": {},
   "outputs": [
    {
     "data": {
      "text/plain": [
       "tensor(6., dtype=torch.float64)"
      ]
     },
     "execution_count": 58,
     "metadata": {},
     "output_type": "execute_result"
    }
   ],
   "source": [
    "(x * y).sum() # 等同于点积"
   ]
  },
  {
   "cell_type": "code",
   "execution_count": 60,
   "id": "3849e0d9-c7e7-48a9-aee8-b13b53bb636b",
   "metadata": {},
   "outputs": [
    {
     "data": {
      "text/plain": [
       "(torch.Size([5, 4]),\n",
       " torch.Size([4]),\n",
       " tensor([[ 0.,  1.,  2.,  3.],\n",
       "         [ 4.,  5.,  6.,  7.],\n",
       "         [ 8.,  9., 10., 11.],\n",
       "         [12., 13., 14., 15.],\n",
       "         [16., 17., 18., 19.]], dtype=torch.float64),\n",
       " tensor([0., 1., 2., 3.], dtype=torch.float64))"
      ]
     },
     "execution_count": 60,
     "metadata": {},
     "output_type": "execute_result"
    }
   ],
   "source": [
    "A.shape , x.shape , A , x"
   ]
  },
  {
   "cell_type": "code",
   "execution_count": 62,
   "id": "05d99e3f-226c-4de2-a333-617aec919f57",
   "metadata": {},
   "outputs": [
    {
     "data": {
      "text/plain": [
       "tensor([ 14.,  38.,  62.,  86., 110.], dtype=torch.float64)"
      ]
     },
     "execution_count": 62,
     "metadata": {},
     "output_type": "execute_result"
    }
   ],
   "source": [
    "torch.mv(A,x) # 按行点乘"
   ]
  },
  {
   "cell_type": "code",
   "execution_count": 67,
   "id": "9ab44752-aa0d-43c3-bfcc-a7355dd44d3f",
   "metadata": {},
   "outputs": [
    {
     "data": {
      "text/plain": [
       "(tensor([[ 0.,  1.,  2.,  3.],\n",
       "         [ 4.,  5.,  6.,  7.],\n",
       "         [ 8.,  9., 10., 11.],\n",
       "         [12., 13., 14., 15.],\n",
       "         [16., 17., 18., 19.]], dtype=torch.float64),\n",
       " tensor([[1., 1., 1.],\n",
       "         [1., 1., 1.],\n",
       "         [1., 1., 1.],\n",
       "         [1., 1., 1.]], dtype=torch.float64),\n",
       " tensor([[ 6.,  6.,  6.],\n",
       "         [22., 22., 22.],\n",
       "         [38., 38., 38.],\n",
       "         [54., 54., 54.],\n",
       "         [70., 70., 70.]], dtype=torch.float64))"
      ]
     },
     "execution_count": 67,
     "metadata": {},
     "output_type": "execute_result"
    }
   ],
   "source": [
    "B = torch.ones(4,3 , dtype = float)\n",
    "A,B , torch.mm(A,B) # 就是矩阵的乘法"
   ]
  },
  {
   "cell_type": "code",
   "execution_count": 70,
   "id": "b10180ed-b249-4b3d-a76e-c60c232f69f8",
   "metadata": {},
   "outputs": [
    {
     "data": {
      "text/plain": [
       "tensor(5.)"
      ]
     },
     "execution_count": 70,
     "metadata": {},
     "output_type": "execute_result"
    }
   ],
   "source": [
    "u = torch.tensor([3.0 , -4.0])\n",
    "torch.norm(u) # u的L2范数，就是u的长度"
   ]
  },
  {
   "cell_type": "code",
   "execution_count": 73,
   "id": "323bdc8b-c73d-4a4e-a2c8-f02efb61d085",
   "metadata": {},
   "outputs": [
    {
     "data": {
      "text/plain": [
       "tensor(7.)"
      ]
     },
     "execution_count": 73,
     "metadata": {},
     "output_type": "execute_result"
    }
   ],
   "source": [
    "torch.abs(u).sum() # u的L1范数 - > 向量元素绝对值之和"
   ]
  },
  {
   "cell_type": "markdown",
   "id": "75189277-6a70-4b43-bc08-4870b4a93cb7",
   "metadata": {},
   "source": [
    "Frobenius范数就是矩阵中所有元素的平方和的平方根"
   ]
  },
  {
   "cell_type": "code",
   "execution_count": 74,
   "id": "e2cf6414-a4ba-4690-95aa-41d4a74f47db",
   "metadata": {},
   "outputs": [
    {
     "data": {
      "text/plain": [
       "tensor(6.)"
      ]
     },
     "execution_count": 74,
     "metadata": {},
     "output_type": "execute_result"
    }
   ],
   "source": [
    "torch.norm(torch.ones(4,9))"
   ]
  },
  {
   "cell_type": "code",
   "execution_count": 76,
   "id": "83a1871e-3e36-4c7b-acf8-9e8e5c486698",
   "metadata": {},
   "outputs": [],
   "source": [
    "### 练习"
   ]
  },
  {
   "cell_type": "code",
   "execution_count": null,
   "id": "97580059-8dda-4adb-b55b-2499de234e60",
   "metadata": {},
   "outputs": [],
   "source": []
  }
 ],
 "metadata": {
  "kernelspec": {
   "display_name": "Python 3 (ipykernel)",
   "language": "python",
   "name": "python3"
  },
  "language_info": {
   "codemirror_mode": {
    "name": "ipython",
    "version": 3
   },
   "file_extension": ".py",
   "mimetype": "text/x-python",
   "name": "python",
   "nbconvert_exporter": "python",
   "pygments_lexer": "ipython3",
   "version": "3.9.20"
  }
 },
 "nbformat": 4,
 "nbformat_minor": 5
}
