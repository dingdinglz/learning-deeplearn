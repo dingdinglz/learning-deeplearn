{
 "cells": [
  {
   "cell_type": "code",
   "execution_count": 51,
   "id": "e9eb21de-07a4-416d-ac8a-474646cd7089",
   "metadata": {},
   "outputs": [],
   "source": [
    "import torch"
   ]
  },
  {
   "cell_type": "code",
   "execution_count": 52,
   "id": "a574a28c-5982-4cc4-9060-800bbf36c67d",
   "metadata": {},
   "outputs": [],
   "source": [
    "x = torch.arange(12)"
   ]
  },
  {
   "cell_type": "code",
   "execution_count": 53,
   "id": "98c9928c-4b67-48a7-a3f8-99a67903c46a",
   "metadata": {},
   "outputs": [
    {
     "data": {
      "text/plain": [
       "tensor([ 0,  1,  2,  3,  4,  5,  6,  7,  8,  9, 10, 11])"
      ]
     },
     "execution_count": 53,
     "metadata": {},
     "output_type": "execute_result"
    }
   ],
   "source": [
    "x"
   ]
  },
  {
   "cell_type": "code",
   "execution_count": 54,
   "id": "f5667d8b-5f90-4ad8-a022-9e32d4eda606",
   "metadata": {},
   "outputs": [
    {
     "data": {
      "text/plain": [
       "torch.Size([12])"
      ]
     },
     "execution_count": 54,
     "metadata": {},
     "output_type": "execute_result"
    }
   ],
   "source": [
    "x.shape"
   ]
  },
  {
   "cell_type": "code",
   "execution_count": 55,
   "id": "5521bac1-d1f7-42af-8630-5d6ae3dfcf93",
   "metadata": {},
   "outputs": [
    {
     "data": {
      "text/plain": [
       "12"
      ]
     },
     "execution_count": 55,
     "metadata": {},
     "output_type": "execute_result"
    }
   ],
   "source": [
    "x.numel()"
   ]
  },
  {
   "cell_type": "code",
   "execution_count": 56,
   "id": "33fee8b5-84c2-4021-bb0b-7fadb7232a5c",
   "metadata": {},
   "outputs": [],
   "source": [
    "x = x.reshape(2,6)"
   ]
  },
  {
   "cell_type": "code",
   "execution_count": 57,
   "id": "403e0523-395c-4f10-b357-4d91883c71d1",
   "metadata": {},
   "outputs": [
    {
     "data": {
      "text/plain": [
       "tensor([[ 0,  1,  2,  3,  4,  5],\n",
       "        [ 6,  7,  8,  9, 10, 11]])"
      ]
     },
     "execution_count": 57,
     "metadata": {},
     "output_type": "execute_result"
    }
   ],
   "source": [
    "x"
   ]
  },
  {
   "cell_type": "markdown",
   "id": "364a9864-58af-4b72-8ba3-3a97848f91fb",
   "metadata": {},
   "source": [
    "### reshape(2,6) 等同于 reshape(-1,6)，自动计算"
   ]
  },
  {
   "cell_type": "code",
   "execution_count": 58,
   "id": "43938027-4b79-4e31-afe5-09035f481e66",
   "metadata": {},
   "outputs": [
    {
     "data": {
      "text/plain": [
       "tensor([[[0., 0., 0., 0.],\n",
       "         [0., 0., 0., 0.],\n",
       "         [0., 0., 0., 0.]],\n",
       "\n",
       "        [[0., 0., 0., 0.],\n",
       "         [0., 0., 0., 0.],\n",
       "         [0., 0., 0., 0.]]])"
      ]
     },
     "execution_count": 58,
     "metadata": {},
     "output_type": "execute_result"
    }
   ],
   "source": [
    "torch.zeros(2,3,4)"
   ]
  },
  {
   "cell_type": "code",
   "execution_count": 59,
   "id": "48c570a2-3dea-4ee0-90bc-dbdbeac291cf",
   "metadata": {},
   "outputs": [
    {
     "data": {
      "text/plain": [
       "tensor([[[1., 1., 1., 1.],\n",
       "         [1., 1., 1., 1.],\n",
       "         [1., 1., 1., 1.]],\n",
       "\n",
       "        [[1., 1., 1., 1.],\n",
       "         [1., 1., 1., 1.],\n",
       "         [1., 1., 1., 1.]]])"
      ]
     },
     "execution_count": 59,
     "metadata": {},
     "output_type": "execute_result"
    }
   ],
   "source": [
    "torch.ones(2,3,4)"
   ]
  },
  {
   "cell_type": "code",
   "execution_count": 60,
   "id": "cbfba2f7-f02f-41ff-ba90-b0529853b16d",
   "metadata": {
    "scrolled": true
   },
   "outputs": [
    {
     "data": {
      "text/plain": [
       "tensor([[ 1.2546,  0.8799, -0.3717,  0.5825],\n",
       "        [-0.5004, -0.7182, -0.3305, -0.0898],\n",
       "        [ 1.1926, -0.2552, -1.3295,  1.3353]])"
      ]
     },
     "execution_count": 60,
     "metadata": {},
     "output_type": "execute_result"
    }
   ],
   "source": [
    "torch.randn(3,4)"
   ]
  },
  {
   "cell_type": "markdown",
   "id": "3e057c90-36a1-493c-9e25-55891a49d354",
   "metadata": {},
   "source": [
    "### torch.randn()随机生成一个张量"
   ]
  },
  {
   "cell_type": "code",
   "execution_count": 61,
   "id": "21e77c61-f5f1-4674-93a0-f325dd8155a0",
   "metadata": {},
   "outputs": [
    {
     "data": {
      "text/plain": [
       "(tensor([ 3,  4,  6, 10]),\n",
       " tensor([-1,  0,  2,  6]),\n",
       " tensor([ 2,  4,  8, 16]),\n",
       " tensor([0.5000, 1.0000, 2.0000, 4.0000]),\n",
       " tensor([ 1,  4, 16, 64]))"
      ]
     },
     "execution_count": 61,
     "metadata": {},
     "output_type": "execute_result"
    }
   ],
   "source": [
    "x = torch.tensor([1,2,4,8])\n",
    "y = torch.tensor([2,2,2,2])\n",
    "x+y,x-y,x*y,x/y,x**y"
   ]
  },
  {
   "cell_type": "code",
   "execution_count": 62,
   "id": "8b865185-aae3-4c86-b7e9-3b88c79a866d",
   "metadata": {},
   "outputs": [
    {
     "data": {
      "text/plain": [
       "tensor([2.7183e+00, 7.3891e+00, 5.4598e+01, 2.9810e+03])"
      ]
     },
     "execution_count": 62,
     "metadata": {},
     "output_type": "execute_result"
    }
   ],
   "source": [
    "torch.exp(x)"
   ]
  },
  {
   "cell_type": "markdown",
   "id": "d4c9ff45-266b-4af5-8ee8-f9e946377bf6",
   "metadata": {},
   "source": [
    "### torch.exp其实就是计算x中每个元素的e^x"
   ]
  },
  {
   "cell_type": "code",
   "execution_count": 63,
   "id": "703f6964-bca4-4b6a-bd64-d7ef96a42d52",
   "metadata": {},
   "outputs": [
    {
     "data": {
      "text/plain": [
       "(tensor([[ 0.0000,  1.0000,  2.0000,  3.0000],\n",
       "         [ 4.0000,  5.0000,  6.0000,  7.0000],\n",
       "         [ 8.0000,  9.0000, 10.0000, 11.0000],\n",
       "         [-0.5649,  1.1084,  0.0291, -0.2098],\n",
       "         [ 1.8515, -0.4200,  0.1358, -0.7473],\n",
       "         [ 1.7436,  0.7147, -0.4087,  1.4916]]),\n",
       " tensor([[ 0.0000,  1.0000,  2.0000,  3.0000, -0.5649,  1.1084,  0.0291, -0.2098],\n",
       "         [ 4.0000,  5.0000,  6.0000,  7.0000,  1.8515, -0.4200,  0.1358, -0.7473],\n",
       "         [ 8.0000,  9.0000, 10.0000, 11.0000,  1.7436,  0.7147, -0.4087,  1.4916]]))"
      ]
     },
     "execution_count": 63,
     "metadata": {},
     "output_type": "execute_result"
    }
   ],
   "source": [
    "x = torch.arange(12, dtype=torch.float32).reshape(3,4)\n",
    "y = torch.randn(3,4)\n",
    "torch.cat((x,y),dim=0),torch.cat((x,y),dim=1)"
   ]
  },
  {
   "cell_type": "markdown",
   "id": "f2d72543-85cc-4391-8e6d-da4bc0cb9bfc",
   "metadata": {},
   "source": [
    "### torch.cat拼接张量，dim指定拼接第几维"
   ]
  },
  {
   "cell_type": "code",
   "execution_count": 64,
   "id": "03b9bac7-4a8f-4a31-bfec-ab37ecf379d0",
   "metadata": {},
   "outputs": [
    {
     "data": {
      "text/plain": [
       "tensor([[False,  True, False, False],\n",
       "        [False, False, False, False],\n",
       "        [False, False, False, False]])"
      ]
     },
     "execution_count": 64,
     "metadata": {},
     "output_type": "execute_result"
    }
   ],
   "source": [
    "x < y"
   ]
  },
  {
   "cell_type": "code",
   "execution_count": 65,
   "id": "66014f83-db08-49ae-9f2e-d97f9f0889c2",
   "metadata": {},
   "outputs": [
    {
     "data": {
      "text/plain": [
       "tensor(66.)"
      ]
     },
     "execution_count": 65,
     "metadata": {},
     "output_type": "execute_result"
    }
   ],
   "source": [
    "x.sum()"
   ]
  },
  {
   "cell_type": "code",
   "execution_count": 66,
   "id": "c55d2802-8ae4-43f5-842f-4d80f34068ee",
   "metadata": {},
   "outputs": [
    {
     "data": {
      "text/plain": [
       "(tensor([[0],\n",
       "         [1],\n",
       "         [2]]),\n",
       " tensor([0, 1]))"
      ]
     },
     "execution_count": 66,
     "metadata": {},
     "output_type": "execute_result"
    }
   ],
   "source": [
    "a = torch.arange(3).reshape(3,-1)\n",
    "b = torch.arange(2)\n",
    "a,b"
   ]
  },
  {
   "cell_type": "code",
   "execution_count": 67,
   "id": "5c591e9e-db74-4c5c-ada3-ed58d28e0830",
   "metadata": {},
   "outputs": [
    {
     "data": {
      "text/plain": [
       "tensor([[0, 1],\n",
       "        [1, 2],\n",
       "        [2, 3]])"
      ]
     },
     "execution_count": 67,
     "metadata": {},
     "output_type": "execute_result"
    }
   ],
   "source": [
    "a + b"
   ]
  },
  {
   "cell_type": "markdown",
   "id": "eae76b67-95eb-4664-81ef-906d3aba656c",
   "metadata": {},
   "source": [
    "### 广播机制\n",
    "\n",
    "不同形状的张量直接相加，复制去拓展"
   ]
  },
  {
   "cell_type": "code",
   "execution_count": 68,
   "id": "7abffdcb-f733-4124-a26e-048dd99cb7aa",
   "metadata": {},
   "outputs": [
    {
     "data": {
      "text/plain": [
       "(tensor([ 8.,  9., 10., 11.]),\n",
       " tensor([[ 4.,  5.,  6.,  7.],\n",
       "         [ 8.,  9., 10., 11.]]))"
      ]
     },
     "execution_count": 68,
     "metadata": {},
     "output_type": "execute_result"
    }
   ],
   "source": [
    "x[-1],x[1:3]"
   ]
  },
  {
   "cell_type": "code",
   "execution_count": 69,
   "id": "7e71f78b-32a4-4589-a3e9-793460dadeb8",
   "metadata": {},
   "outputs": [
    {
     "data": {
      "text/plain": [
       "tensor([[0., 1., 2., 3.],\n",
       "        [4., 5., 6., 7.]])"
      ]
     },
     "execution_count": 69,
     "metadata": {},
     "output_type": "execute_result"
    }
   ],
   "source": [
    "x[0:2,:]"
   ]
  },
  {
   "cell_type": "code",
   "execution_count": 70,
   "id": "5b295bd7-b610-4beb-a808-287c6b602155",
   "metadata": {},
   "outputs": [
    {
     "data": {
      "text/plain": [
       "tensor([[12., 12., 12., 12.],\n",
       "        [12., 12., 12., 12.],\n",
       "        [ 8.,  9., 10., 11.]])"
      ]
     },
     "execution_count": 70,
     "metadata": {},
     "output_type": "execute_result"
    }
   ],
   "source": [
    "x[0:2,:] = 12\n",
    "x"
   ]
  },
  {
   "cell_type": "code",
   "execution_count": 71,
   "id": "72f14ccb-baf9-4c6e-9350-50755f52e072",
   "metadata": {},
   "outputs": [
    {
     "data": {
      "text/plain": [
       "True"
      ]
     },
     "execution_count": 71,
     "metadata": {},
     "output_type": "execute_result"
    }
   ],
   "source": [
    "before = id(x)\n",
    "x[:] = torch.zeros_like(x)\n",
    "before == id(x)"
   ]
  },
  {
   "cell_type": "code",
   "execution_count": 72,
   "id": "92490f92-85eb-48dd-a10c-107029f4ee8c",
   "metadata": {},
   "outputs": [
    {
     "data": {
      "text/plain": [
       "(numpy.ndarray, torch.Tensor)"
      ]
     },
     "execution_count": 72,
     "metadata": {},
     "output_type": "execute_result"
    }
   ],
   "source": [
    "A = x.numpy()\n",
    "B = torch.tensor(A)\n",
    "type(A),type(B)"
   ]
  },
  {
   "cell_type": "markdown",
   "id": "3219d8aa-a807-442d-a5a4-aec19f1e5cdb",
   "metadata": {},
   "source": [
    "多么优秀的转化，伟大无需多言"
   ]
  },
  {
   "cell_type": "code",
   "execution_count": 73,
   "id": "9bbcc822-757a-40f5-b4e1-5d7678052b23",
   "metadata": {},
   "outputs": [
    {
     "data": {
      "text/plain": [
       "(tensor([3.5000]), 3.5, 3.5, 3)"
      ]
     },
     "execution_count": 73,
     "metadata": {},
     "output_type": "execute_result"
    }
   ],
   "source": [
    "a = torch.tensor([3.5])\n",
    "a,a.item(),float(a),int(a)"
   ]
  },
  {
   "cell_type": "code",
   "execution_count": null,
   "id": "4bd5980c-af97-4bb3-8421-b4186cdc52a6",
   "metadata": {},
   "outputs": [],
   "source": []
  }
 ],
 "metadata": {
  "kernelspec": {
   "display_name": "Python 3 (ipykernel)",
   "language": "python",
   "name": "python3"
  },
  "language_info": {
   "codemirror_mode": {
    "name": "ipython",
    "version": 3
   },
   "file_extension": ".py",
   "mimetype": "text/x-python",
   "name": "python",
   "nbconvert_exporter": "python",
   "pygments_lexer": "ipython3",
   "version": "3.9.20"
  }
 },
 "nbformat": 4,
 "nbformat_minor": 5
}
